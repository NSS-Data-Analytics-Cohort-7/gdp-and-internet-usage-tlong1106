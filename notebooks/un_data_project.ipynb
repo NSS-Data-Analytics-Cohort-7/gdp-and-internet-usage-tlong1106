{
 "cells": [
  {
   "cell_type": "markdown",
   "id": "092004ec",
   "metadata": {},
   "source": [
    "#### 3. Import the required packages with their customary aliases\n",
    "#### 4. Use the %matplotlib inline magic command"
   ]
  },
  {
   "cell_type": "code",
   "execution_count": null,
   "id": "9cfcba3b",
   "metadata": {},
   "outputs": [],
   "source": [
    "import pandas as pd\n",
    "import numpy as np\n",
    "import matplotlib.pyplot as plt\n",
    "import seaborn as sns\n",
    "\n",
    "%matplotlib inline"
   ]
  },
  {
   "cell_type": "markdown",
   "id": "1dfa5348",
   "metadata": {},
   "source": [
    "#### 5. Using the pandas read_csv() method, read the GDP dataset into your notebook as a DataFrame called gdp_df. Take a look at   the first 6 rows\n",
    "#### 6. Repeat for the internet use dataset. Call this DataFrame internet_df. Take a look at the first six rows."
   ]
  },
  {
   "cell_type": "code",
   "execution_count": null,
   "id": "7780dab1",
   "metadata": {},
   "outputs": [],
   "source": [
    "gdp_df = pd.read_csv(\"../Data/gdp_percapita.csv\", nrows=6868)\n",
    "internet_df = pd.read_csv(\"../Data/internet_use.csv\", nrows=4495)\n",
    "\n",
    "# print(gdp_df)\n",
    "# print(internet_df)"
   ]
  },
  {
   "cell_type": "markdown",
   "id": "a68b14d8",
   "metadata": {},
   "source": [
    "#### 7. Look at the shape of each DataFrame - how many rows? How many columns?\n",
    "#### 8. Take a look at the datatypes for the columns in each DataFrame."
   ]
  },
  {
   "cell_type": "markdown",
   "id": "2498452d",
   "metadata": {},
   "source": [
    "7.\n",
    "..gdp_df:\n",
    ".... Has 6868 rows, 4 columns\n",
    "..internet_df:\n",
    ".... Has 4495 rows, 4 columns\n",
    "\n",
    "8.\n",
    ".. gdp_df:\n",
    ".... Has float64(2), object(2)\n",
    ".. internet_df:\n",
    ".... Has float64(2), object(2)\n"
   ]
  },
  {
   "cell_type": "code",
   "execution_count": null,
   "id": "15758340",
   "metadata": {
    "scrolled": false
   },
   "outputs": [],
   "source": [
    "gdp_df.info()\n",
    "internet_df.info()"
   ]
  },
  {
   "cell_type": "markdown",
   "id": "b8117cf2",
   "metadata": {},
   "source": [
    "#### 9. Take a look at the last 10 rows of each DataFrame in turn."
   ]
  },
  {
   "cell_type": "code",
   "execution_count": null,
   "id": "115998e7",
   "metadata": {
    "scrolled": false
   },
   "outputs": [],
   "source": [
    "# gdp_df.tail(10)\n",
    "internet_df.tail(10)"
   ]
  },
  {
   "cell_type": "markdown",
   "id": "f3bad379",
   "metadata": {},
   "source": [
    "#### 10. Drop the value footnotes column from both DataFrames. Check that this worked as expected."
   ]
  },
  {
   "cell_type": "code",
   "execution_count": null,
   "id": "19306712",
   "metadata": {
    "scrolled": true
   },
   "outputs": [],
   "source": [
    "gdp_df_drop = gdp_df.drop(['Value Footnotes'], axis=1)\n",
    "internet_df_drop = internet_df.drop(['Value Footnotes'], axis=1)\n",
    "\n",
    "print(gdp_df_drop)\n",
    "print(internet_df_drop)"
   ]
  },
  {
   "cell_type": "markdown",
   "id": "bcddc890",
   "metadata": {},
   "source": [
    "#### 11. Change the columns for the GDP Per Capita DataFrame to ‘Country’, ‘Year’, and ‘GDP_Per_Capita’."
   ]
  },
  {
   "cell_type": "code",
   "execution_count": null,
   "id": "46f89cc5",
   "metadata": {
    "scrolled": true
   },
   "outputs": [],
   "source": [
    "gdp_df_change = gdp_df_drop.rename(columns={\"Country or Area\": \"Country\", \"Value\": \"GDP_Per_Capita\"})\n",
    "print(gdp_df_change)"
   ]
  },
  {
   "cell_type": "markdown",
   "id": "49320156",
   "metadata": {},
   "source": [
    "#### 12. Change the columns for the Internet Users DataFrame to ‘Country’, ‘Year’, and ‘Internet_Users_Pct’."
   ]
  },
  {
   "cell_type": "code",
   "execution_count": null,
   "id": "3b092203",
   "metadata": {},
   "outputs": [],
   "source": [
    "internet_df_change = internet_df_drop.rename(columns={\"Country or Area\": \"Country\", \"Value\": \"Internet_Users_Pct\"})\n",
    "print(internet_df_change)"
   ]
  },
  {
   "cell_type": "markdown",
   "id": "63632f75",
   "metadata": {},
   "source": [
    "#### 13. Merge the two DataFrames to one. Merge all rows from each of the two DataFrames. Call the new DataFrame gdp_and_internet_use."
   ]
  },
  {
   "cell_type": "code",
   "execution_count": null,
   "id": "28c19100",
   "metadata": {
    "scrolled": true
   },
   "outputs": [],
   "source": [
    "gdp_and_internet_use = pd.merge(gdp_df_change, internet_df_change, on=[\"Country\", \"Year\"], how=\"outer\")\n",
    "print(gdp_and_internet_use)"
   ]
  },
  {
   "cell_type": "markdown",
   "id": "ee02f986",
   "metadata": {},
   "source": [
    "#### 14. Look at the first five rows of your new DataFrame to confirm it merged correctly."
   ]
  },
  {
   "cell_type": "code",
   "execution_count": null,
   "id": "f140fea8",
   "metadata": {},
   "outputs": [],
   "source": [
    "gdp_and_internet_use.head(5)"
   ]
  },
  {
   "cell_type": "markdown",
   "id": "5835b1c3",
   "metadata": {},
   "source": [
    "#### 15. Look at the last five rows to make sure the data is clean and as expected."
   ]
  },
  {
   "cell_type": "code",
   "execution_count": null,
   "id": "cc34d522",
   "metadata": {},
   "outputs": [],
   "source": [
    "gdp_and_internet_use.tail(5)"
   ]
  },
  {
   "cell_type": "markdown",
   "id": "150970b0",
   "metadata": {},
   "source": [
    "#### 16. Subset the combined DataFrame to keep only the data for 2004, 2009, and 2014. Check that this happened correctly."
   ]
  },
  {
   "cell_type": "code",
   "execution_count": null,
   "id": "76d93565",
   "metadata": {},
   "outputs": [],
   "source": [
    "subset_gdp_and_internet_use = gdp_and_internet_use[gdp_and_internet_use[\"Year\"].isin([2004, 2009, 2014])]\n",
    "print(subset_gdp_and_internet_use)"
   ]
  },
  {
   "cell_type": "markdown",
   "id": "244c7bbe",
   "metadata": {},
   "source": [
    "#### 17. Create three new DataFrames, one for 2004, one for 2009, and one for 2014. Give them meaningful names that aren't too long."
   ]
  },
  {
   "cell_type": "code",
   "execution_count": null,
   "id": "540be7f4",
   "metadata": {},
   "outputs": [],
   "source": [
    "# DataFrame for 2004\n",
    "gdp_internet_2004 = subset_gdp_and_internet_use[subset_gdp_and_internet_use[\"Year\"].isin([2004])]\n",
    "print(gdp_internet_2004)"
   ]
  },
  {
   "cell_type": "code",
   "execution_count": null,
   "id": "3abeef46",
   "metadata": {},
   "outputs": [],
   "source": [
    "# DataFrame for 2009\n",
    "gdp_internet_2009 = subset_gdp_and_internet_use[subset_gdp_and_internet_use[\"Year\"].isin([2009])]\n",
    "print(gdp_internet_2009)"
   ]
  },
  {
   "cell_type": "code",
   "execution_count": null,
   "id": "e1f0262c",
   "metadata": {},
   "outputs": [],
   "source": [
    "# DataFrame for 2014\n",
    "gdp_internet_2014 = subset_gdp_and_internet_use[subset_gdp_and_internet_use[\"Year\"].isin([2014])]\n",
    "print(gdp_internet_2014)"
   ]
  },
  {
   "cell_type": "markdown",
   "id": "29017002",
   "metadata": {},
   "source": [
    "#### 18. Which country had the highest percentage of internet users in 2014? What was the percentage? (Try typing the first 3 letters of your DataFrame name and hitting the tab key for auto-complete options)."
   ]
  },
  {
   "cell_type": "code",
   "execution_count": null,
   "id": "99e94355",
   "metadata": {},
   "outputs": [],
   "source": [
    "# max internet for 2014\n",
    "max_internet_2014 = pd.DataFrame(gdp_internet_2014)\n",
    "print(max_internet_2014[max_internet_2014.Internet_Users_Pct == max_internet_2014.Internet_Users_Pct.max()])"
   ]
  },
  {
   "cell_type": "markdown",
   "id": "8e89cb67",
   "metadata": {},
   "source": [
    "#### 19. Which country had the lowest percentage of internet users in 2014? What was the percentage?"
   ]
  },
  {
   "cell_type": "code",
   "execution_count": null,
   "id": "a3d04e69",
   "metadata": {},
   "outputs": [],
   "source": [
    "# min internet for 2014\n",
    "min_internet_2014 = pd.DataFrame(gdp_internet_2014)\n",
    "print(min_internet_2014[min_internet_2014.Internet_Users_Pct == min_internet_2014.Internet_Users_Pct.min()])"
   ]
  },
  {
   "cell_type": "markdown",
   "id": "a7c26f7d",
   "metadata": {},
   "source": [
    "#### 20. Repeat for 2004 and 2009."
   ]
  },
  {
   "cell_type": "code",
   "execution_count": null,
   "id": "573a5652",
   "metadata": {},
   "outputs": [],
   "source": [
    "# max internet for 2004\n",
    "max_internet_2004 = pd.DataFrame(gdp_internet_2004)\n",
    "print(max_internet_2004[max_internet_2004.Internet_Users_Pct == max_internet_2004.Internet_Users_Pct.max()])"
   ]
  },
  {
   "cell_type": "code",
   "execution_count": null,
   "id": "14033025",
   "metadata": {},
   "outputs": [],
   "source": [
    "# min internet for 2004\n",
    "min_internet_2004 = pd.DataFrame(gdp_internet_2004)\n",
    "print(min_internet_2004[min_internet_2004.Internet_Users_Pct == min_internet_2004.Internet_Users_Pct.min()])"
   ]
  },
  {
   "cell_type": "code",
   "execution_count": null,
   "id": "ddb95402",
   "metadata": {},
   "outputs": [],
   "source": [
    "# max internet for 2009\n",
    "max_internet_2009 = pd.DataFrame(gdp_internet_2009)\n",
    "print(max_internet_2009[max_internet_2009.Internet_Users_Pct == max_internet_2009.Internet_Users_Pct.max()])"
   ]
  },
  {
   "cell_type": "code",
   "execution_count": null,
   "id": "a0ed2655",
   "metadata": {},
   "outputs": [],
   "source": [
    "# min internet for 2009\n",
    "max_internet_2009 = pd.DataFrame(gdp_internet_2009)\n",
    "print(max_internet_2009[max_internet_2009.Internet_Users_Pct == max_internet_2009.Internet_Users_Pct.min()])"
   ]
  },
  {
   "cell_type": "markdown",
   "id": "d21042ab",
   "metadata": {},
   "source": [
    "#### 21. Which country had the highest gdp per capita in 2014? What was the gdp per capita?"
   ]
  },
  {
   "cell_type": "code",
   "execution_count": null,
   "id": "540fd9af",
   "metadata": {},
   "outputs": [],
   "source": [
    "# max gdp for 2014\n",
    "max_gdp_2014 = pd.DataFrame(gdp_internet_2014)\n",
    "print(max_gdp_2014[max_gdp_2014.GDP_Per_Capita == max_gdp_2014.GDP_Per_Capita.max()])"
   ]
  },
  {
   "cell_type": "markdown",
   "id": "3d22738c",
   "metadata": {},
   "source": [
    "#### 22. Which country had the lowest gdp per capita in 2014? What was the gdp per capita?"
   ]
  },
  {
   "cell_type": "code",
   "execution_count": null,
   "id": "ce750fc5",
   "metadata": {},
   "outputs": [],
   "source": [
    "# min gdp for 2014\n",
    "# max gdp for 2014\n",
    "min_gdp_2014 = pd.DataFrame(gdp_internet_2014)\n",
    "print(min_gdp_2014[min_gdp_2014.GDP_Per_Capita == min_gdp_2014.GDP_Per_Capita.min()])"
   ]
  },
  {
   "cell_type": "markdown",
   "id": "02133d22",
   "metadata": {},
   "source": [
    "#### 23. Create some scatterplots:\n",
    "a. 2004 Percent Using the Internet vs GDP Per Capita\n",
    "b. 2009 Percent Using the Internet vs GDP Per Capita\n",
    "c. 2014 Percent Using the Internet vs GDP Per Capita"
   ]
  },
  {
   "cell_type": "code",
   "execution_count": null,
   "id": "b0f25524",
   "metadata": {},
   "outputs": [],
   "source": []
  },
  {
   "cell_type": "markdown",
   "id": "7a06a400",
   "metadata": {},
   "source": [
    "#### 24. Are there differences across years? What do the plots tell you about any relationship between these two variables? Enter your observations as a markdown cell."
   ]
  },
  {
   "cell_type": "code",
   "execution_count": null,
   "id": "034ceed0",
   "metadata": {},
   "outputs": [],
   "source": []
  },
  {
   "cell_type": "markdown",
   "id": "c874f92f",
   "metadata": {},
   "source": [
    "#### 25. Look at the distribution of gdp per capita values for 2014. Is it unimodal?"
   ]
  },
  {
   "cell_type": "code",
   "execution_count": null,
   "id": "156ddb74",
   "metadata": {},
   "outputs": [],
   "source": []
  },
  {
   "cell_type": "markdown",
   "id": "85f9fd0e",
   "metadata": {},
   "source": [
    "#### 26. Look at the distribution of Internet Use for 2014. Is it unimodal?"
   ]
  },
  {
   "cell_type": "code",
   "execution_count": null,
   "id": "185266fd",
   "metadata": {},
   "outputs": [],
   "source": []
  },
  {
   "cell_type": "markdown",
   "id": "5cc0841a",
   "metadata": {},
   "source": [
    "#### 27. What are the top 5 countries in terms of internet use in 2014?"
   ]
  },
  {
   "cell_type": "code",
   "execution_count": null,
   "id": "f4823b6b",
   "metadata": {},
   "outputs": [],
   "source": []
  },
  {
   "cell_type": "markdown",
   "id": "86bcb065",
   "metadata": {},
   "source": [
    "#### 28. Create a DataFrame called top_5_internet from the combined DataFrame that has all three years for the 5 countries that had the greatest 2014 internet usage. You should have 15 rows. Check that this is true."
   ]
  },
  {
   "cell_type": "code",
   "execution_count": null,
   "id": "bb72eb7f",
   "metadata": {},
   "outputs": [],
   "source": []
  },
  {
   "cell_type": "markdown",
   "id": "5ec2ba64",
   "metadata": {},
   "source": [
    "#### 29. Create a seaborn FacetGrid to show the internet usage trend across the years 2004, 2009, and 2014 for these 5 countries (those with the highest reported internet use in 2014). Which country had the greatest growth between 2004 and 2014?"
   ]
  },
  {
   "cell_type": "code",
   "execution_count": null,
   "id": "3c5b43a6",
   "metadata": {},
   "outputs": [],
   "source": []
  },
  {
   "cell_type": "markdown",
   "id": "f7d78688",
   "metadata": {},
   "source": [
    "#### 30. Repeat the steps above to look at the trend for the 5 countries with the lowest 2014 internet usage. Which country has consistently had the least internet use?"
   ]
  },
  {
   "cell_type": "code",
   "execution_count": null,
   "id": "fddcc5c7",
   "metadata": {},
   "outputs": [],
   "source": []
  },
  {
   "cell_type": "markdown",
   "id": "a1cd7cf4",
   "metadata": {},
   "source": [
    "#### 31. Find the top 5 countries for 2014 in terms of GDP per capita; create a DataFrame to look at 10-year trends (use 2004, 2009, 2014 to look at the 10-year trend) in gdp per capita for the 5 countries with the highest 2014 GDP per capita. Use a seaborn facet grid for this."
   ]
  },
  {
   "cell_type": "code",
   "execution_count": null,
   "id": "4a3d8e11",
   "metadata": {},
   "outputs": [],
   "source": []
  },
  {
   "cell_type": "markdown",
   "id": "74c65e9f",
   "metadata": {},
   "source": [
    "#### 32. Repeat this one more time to look at 10-year trend for the 5 countries for 2014 with the lowest GDP per capita."
   ]
  },
  {
   "cell_type": "code",
   "execution_count": null,
   "id": "620dc97b",
   "metadata": {},
   "outputs": [],
   "source": []
  },
  {
   "cell_type": "markdown",
   "id": "cb747303",
   "metadata": {},
   "source": [
    "#### 33. Is there anything surprising or unusual in any of these plots? Searching on the internet, can you find any possible explanations for unusual findings?"
   ]
  },
  {
   "cell_type": "code",
   "execution_count": null,
   "id": "96ee05e1",
   "metadata": {},
   "outputs": [],
   "source": []
  }
 ],
 "metadata": {
  "kernelspec": {
   "display_name": "Python 3 (ipykernel)",
   "language": "python",
   "name": "python3"
  },
  "language_info": {
   "codemirror_mode": {
    "name": "ipython",
    "version": 3
   },
   "file_extension": ".py",
   "mimetype": "text/x-python",
   "name": "python",
   "nbconvert_exporter": "python",
   "pygments_lexer": "ipython3",
   "version": "3.9.12"
  }
 },
 "nbformat": 4,
 "nbformat_minor": 5
}
